{
 "cells": [
  {
   "cell_type": "code",
   "execution_count": 1,
   "metadata": {},
   "outputs": [],
   "source": [
    "import urllib3\n",
    "from bs4 import BeautifulSoup as bs\n",
    "import pandas as pd\n",
    "import matplotlib.pyplot as plt\n",
    "import matplotlib.style as style\n",
    "import requests"
   ]
  },
  {
   "cell_type": "code",
   "execution_count": 2,
   "metadata": {},
   "outputs": [
    {
     "name": "stderr",
     "output_type": "stream",
     "text": [
      "C:\\Users\\SRIDIP\\Anaconda3\\lib\\site-packages\\urllib3\\connectionpool.py:858: InsecureRequestWarning: Unverified HTTPS request is being made. Adding certificate verification is strongly advised. See: https://urllib3.readthedocs.io/en/latest/advanced-usage.html#ssl-warnings\n",
      "  InsecureRequestWarning)\n",
      "C:\\Users\\SRIDIP\\Anaconda3\\lib\\site-packages\\bs4\\__init__.py:181: UserWarning: No parser was explicitly specified, so I'm using the best available HTML parser for this system (\"html5lib\"). This usually isn't a problem, but if you run this code on another system, or in a different virtual environment, it may use a different parser and behave differently.\n",
      "\n",
      "The code that caused this warning is on line 193 of the file C:\\Users\\SRIDIP\\Anaconda3\\lib\\runpy.py. To get rid of this warning, change code that looks like this:\n",
      "\n",
      " BeautifulSoup(YOUR_MARKUP})\n",
      "\n",
      "to this:\n",
      "\n",
      " BeautifulSoup(YOUR_MARKUP, \"html5lib\")\n",
      "\n",
      "  markup_type=markup_type))\n",
      "C:\\Users\\SRIDIP\\Anaconda3\\lib\\site-packages\\urllib3\\connectionpool.py:858: InsecureRequestWarning: Unverified HTTPS request is being made. Adding certificate verification is strongly advised. See: https://urllib3.readthedocs.io/en/latest/advanced-usage.html#ssl-warnings\n",
      "  InsecureRequestWarning)\n"
     ]
    },
    {
     "name": "stdout",
     "output_type": "stream",
     "text": [
      "             Language  Tag_Count\n",
      "0          javascript    1753591\n",
      "1                java    1508415\n",
      "2                  c#    1280948\n",
      "3                 php    1258509\n",
      "4             android    1168868\n",
      "5              python    1102466\n",
      "6              jquery     942389\n",
      "7                html     800985\n",
      "8                 c++     603062\n",
      "9                 ios     589402\n",
      "10                css     571429\n",
      "11              mysql     548323\n",
      "12                sql     476587\n",
      "13            asp.net     342269\n",
      "14      ruby-on-rails     302423\n",
      "15                  c     295306\n",
      "16        objective-c     286673\n",
      "17             arrays     286450\n",
      "18               .net     279070\n",
      "19                  r     273548\n",
      "20            node.js     260291\n",
      "21          angularjs     256977\n",
      "22               json     253882\n",
      "23         sql-server     251989\n",
      "24              swift     220166\n",
      "25             iphone     219791\n",
      "26               ruby     201960\n",
      "27              regex     201955\n",
      "28               ajax     195986\n",
      "29             django     189273\n",
      "..                ...        ...\n",
      "42              xcode     130119\n",
      "43            windows     126958\n",
      "44             vb.net     122066\n",
      "45            reactjs     121257\n",
      "46              html5     118293\n",
      "47            eclipse     115516\n",
      "48     multithreading     113259\n",
      "49            mongodb     109378\n",
      "50               bash     107990\n",
      "51            laravel     107614\n",
      "52                git     107328\n",
      "53             oracle     106139\n",
      "54         postgresql      95127\n",
      "55  twitter-bootstrap      94110\n",
      "56             pandas      93799\n",
      "57              forms      92706\n",
      "58              image      91788\n",
      "59              macos      89849\n",
      "60          algorithm      89213\n",
      "61         python-2.7      88351\n",
      "62              scala      86376\n",
      "63      visual-studio      85276\n",
      "64          excel-vba      84162\n",
      "65               list      83708\n",
      "66           winforms      83220\n",
      "67           facebook      83108\n",
      "68             apache      83075\n",
      "69             matlab      82151\n",
      "70        performance      81075\n",
      "71   entity-framework      77933\n",
      "\n",
      "[72 rows x 2 columns]\n"
     ]
    },
    {
     "data": {
      "image/png": "[encoded data removed]",
      "text/plain": [
       "<Figure size 432x288 with 1 Axes>"
      ]
     },
     "metadata": {},
     "output_type": "display_data"
    }
   ],
   "source": [
    "df = {'Language':[],'Tag_Count':[]}\n",
    "\n",
    "\n",
    "\n",
    "def extract_tagged(url):\n",
    "    http = urllib3.PoolManager()\n",
    "    response = http.request('GET', url)\n",
    "    soup = bs(response.data)\n",
    "    #getting the data from the class:post-tag -> Languages \n",
    "    for tag in soup.find_all('a',attrs={'class':'post-tag'}):\n",
    "        df['Language'].append(tag.text)\n",
    "    #getting the data from the class:item-multiplier-count -> Tag_Count     \n",
    "    for count in soup.find_all('span',attrs={'class':'item-multiplier-count'}):\n",
    "        df['Tag_Count'].append(count.text)\n",
    "    \n",
    "for i in range(1,3):\n",
    "    extract_tagged('http://stackoverflow.com/tags?page='+str(i)+'&tab=popular')    \n",
    "df['Tag_Count']=[int(i) for i in df['Tag_Count']]\n",
    "\n",
    "df2= pd.DataFrame(df)\n",
    "print(df2)\n",
    "\n",
    "\n",
    "style.use('ggplot')\n",
    "\n",
    "df2.sort_values(by=['Tag_Count'],ascending=False).head(10).set_index('Language').plot(kind='bar')\n",
    "plt.show()\n"
   ]
  },
  {
   "cell_type": "code",
   "execution_count": null,
   "metadata": {},
   "outputs": [],
   "source": []
  }
 ],
 "metadata": {
  "kernelspec": {
   "display_name": "Python 3",
   "language": "python",
   "name": "python3"
  },
  "language_info": {
   "codemirror_mode": {
    "name": "ipython",
    "version": 3
   },
   "file_extension": ".py",
   "mimetype": "text/x-python",
   "name": "python",
   "nbconvert_exporter": "python",
   "pygments_lexer": "ipython3",
   "version": "3.6.5"
  }
 },
 "nbformat": 4,
 "nbformat_minor": 2
}
